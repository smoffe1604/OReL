{
 "cells": [
  {
   "cell_type": "code",
   "execution_count": 2,
   "metadata": {},
   "outputs": [],
   "source": [
    "import numpy as np\n",
    "import pandas as pd\n",
    "import matplotlib.pyplot as plt\n",
    "from scipy.stats import bernoulli, binom\n",
    "import math\n"
   ]
  },
  {
   "cell_type": "code",
   "execution_count": 11,
   "metadata": {},
   "outputs": [],
   "source": [
    "df1 = pd.read_csv('data_policy1.csv', header = None).rename(columns = {0: 'st', 1: 'at', 2: 'rt', 3: 'st1'})\n",
    "df2 = pd.read_csv('data_policy2.csv', header = None).rename(columns = {0: 'st', 1: 'at', 2: 'rt', 3: 'st1'})"
   ]
  },
  {
   "cell_type": "code",
   "execution_count": 78,
   "metadata": {},
   "outputs": [],
   "source": [
    "def modelbased(data, alpha = 0, T = 10**6):\n",
    "    gamma = 0.95\n",
    "    S = 5\n",
    "    A = 2\n",
    "    data = data[0:T]\n",
    "\n",
    "    N_ss = np.ones((A, S, S))\n",
    "    for a in range(A):\n",
    "        for s in range(S):\n",
    "            for s_m in range(S):\n",
    "                N_ss[a][s][s_m] += len(data[(data['at'] == a) & (data['st'] == s) & (data['st1'] == s_m)])\n",
    "    P_ss = np.array([[[((N_ss[a][s][s_m] + alpha) / (sum(N_ss[a][s]) + (alpha * S))) for s_m in range(S)] for s in range(S)] for a in range(A)])\n",
    "\n",
    "    r_s = np.ones((A, S))\n",
    "    for a in range(A):\n",
    "        for s in range(S):\n",
    "            r_s[a][s] = (sum(data[(data['st'] == s) & (data['at'] == a)]['rt']) + alpha) / (sum(N_ss[a][s]) + alpha)\n",
    "\n",
    "    Q_t = np.ones((A, S))\n",
    "    for a in range(A):\n",
    "        Q_t[a] = np.linalg.inv(np.identity(S) - gamma * P_ss[a]) @ np.array(r_s[a])\n",
    "\n",
    "    return Q_t\n",
    "\n",
    "def QL(data, alpha0):\n",
    "    gamma = 0.95\n",
    "    S = 5\n",
    "    A = 2\n",
    "    Q_t_arr = np.zeros((A, S))\n",
    "    Q_t = np.zeros((A, S))\n",
    "    for t in range(len(data)):\n",
    "        s = data['st'][t]\n",
    "        if alpha0 == \"alpha_a\":\n",
    "            alpha = 10 / ((t+1)**(2/3) + 1)\n",
    "        if alpha0 == \"alpha_b\":\n",
    "            N_t = sum((data[:t+1]['st'] == s) & (data[:t+1]['at'] == data['at'][t]))\n",
    "            alpha = 10 / (N_t**(2/3) + 1)\n",
    "            \n",
    "        #get V_{t+1}\n",
    "        a = data['at'][t]\n",
    "        Q_t[a][s] += alpha * (data['rt'][t] + (gamma * (Q_t[a][data['st1'][t]])) - Q_t[a][s])\n",
    "        Q_t_arr = np.vstack([Q_t_arr, Q_t])\n",
    "\n",
    "    return Q_t"
   ]
  },
  {
   "cell_type": "code",
   "execution_count": 10,
   "metadata": {},
   "outputs": [],
   "source": [
    "#P_ss[a][s][s']\n",
    "P_ss = np.array([[[0.95, 0.05, 0, 0], \n",
    "                  [0.95, 0, 0.05, 0], \n",
    "                  [0, 0.95, 0, 0.05], \n",
    "                  [0, 0, 0.95, 0.05]],\n",
    "                 [[0.6, 0.4, 0, 0],\n",
    "                  [0.05, 0.55, 0.4, 0],\n",
    "                  [0, 0.05, 0.55, 0.4],\n",
    "                  [0, 0, 0.4, 0.6]]])\n",
    "\n",
    "#r_ss[a][s]\n",
    "r_s = np.array([[1, 0, 0, 0], \n",
    "               [0.05, 0, 0, 0]])"
   ]
  },
  {
   "cell_type": "code",
   "execution_count": 80,
   "metadata": {},
   "outputs": [
    {
     "name": "stdout",
     "output_type": "stream",
     "text": [
      "[[0.99818507 0.94812179 0.90053751 0.85553937 0.81445783]\n",
      " [5.36185894 6.06241334 6.91982965 7.98749679 9.19382841]]\n",
      "[[ 1.          0.95        0.9025      0.857375    0.81450625]\n",
      " [ 6.06266859  6.80153954  7.85042179  8.73647243 10.21527246]]\n"
     ]
    }
   ],
   "source": [
    "data = df2\n",
    "print(modelbased(data))\n",
    "print(QL(data, alpha0 = \"alpha_b\"))\n"
   ]
  },
  {
   "cell_type": "code",
   "execution_count": 16,
   "metadata": {},
   "outputs": [
    {
     "data": {
      "text/plain": [
       "array([[0., 0., 0., 0.],\n",
       "       [0., 0., 0., 0.],\n",
       "       [0., 0., 0., 0.],\n",
       "       [0., 0., 0., 0.]])"
      ]
     },
     "execution_count": 16,
     "metadata": {},
     "output_type": "execute_result"
    }
   ],
   "source": [
    "np.zeros((2,4,4))"
   ]
  },
  {
   "cell_type": "code",
   "execution_count": 48,
   "metadata": {},
   "outputs": [
    {
     "data": {
      "text/plain": [
       "[1, 1, 1, 1, 1, 1, 1, 1, 1, 1]"
      ]
     },
     "execution_count": 48,
     "metadata": {},
     "output_type": "execute_result"
    }
   ],
   "source": [
    "[1 if True else 0 for i in range(10)]"
   ]
  },
  {
   "cell_type": "code",
   "execution_count": null,
   "metadata": {},
   "outputs": [],
   "source": []
  },
  {
   "cell_type": "code",
   "execution_count": null,
   "metadata": {},
   "outputs": [],
   "source": []
  },
  {
   "cell_type": "code",
   "execution_count": null,
   "metadata": {},
   "outputs": [],
   "source": []
  },
  {
   "cell_type": "code",
   "execution_count": null,
   "metadata": {},
   "outputs": [],
   "source": []
  },
  {
   "cell_type": "code",
   "execution_count": null,
   "metadata": {},
   "outputs": [],
   "source": []
  },
  {
   "cell_type": "code",
   "execution_count": null,
   "metadata": {},
   "outputs": [],
   "source": []
  }
 ],
 "metadata": {
  "kernelspec": {
   "display_name": "Python 3",
   "language": "python",
   "name": "python3"
  },
  "language_info": {
   "codemirror_mode": {
    "name": "ipython",
    "version": 3
   },
   "file_extension": ".py",
   "mimetype": "text/x-python",
   "name": "python",
   "nbconvert_exporter": "python",
   "pygments_lexer": "ipython3",
   "version": "3.10.2"
  },
  "orig_nbformat": 4
 },
 "nbformat": 4,
 "nbformat_minor": 2
}
