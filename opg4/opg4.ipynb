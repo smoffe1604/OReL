{
 "cells": [
  {
   "cell_type": "code",
   "execution_count": 82,
   "metadata": {},
   "outputs": [],
   "source": [
    "import numpy as np\n",
    "import pandas as pd\n",
    "import matplotlib.pyplot as plt\n",
    "from scipy.stats import bernoulli, binom\n",
    "import math\n",
    "import random\n"
   ]
  },
  {
   "cell_type": "code",
   "execution_count": 11,
   "metadata": {},
   "outputs": [],
   "source": [
    "df1 = pd.read_csv('data_policy1.csv', header = None).rename(columns = {0: 'st', 1: 'at', 2: 'rt', 3: 'st1'})\n",
    "df2 = pd.read_csv('data_policy2.csv', header = None).rename(columns = {0: 'st', 1: 'at', 2: 'rt', 3: 'st1'})"
   ]
  },
  {
   "cell_type": "code",
   "execution_count": 169,
   "metadata": {},
   "outputs": [],
   "source": [
    "def modelbased(data, alpha = 0, T = 10**6):\n",
    "    gamma = 0.95\n",
    "    S = 4\n",
    "    A = 2\n",
    "    data = data[0:T]\n",
    "\n",
    "    N_ss = np.ones((A, S, S))\n",
    "    for a in range(A):\n",
    "        for s in range(S):\n",
    "            for s_m in range(S):\n",
    "                N_ss[a][s][s_m] += len(data[(data['at'] == a) & (data['st'] == s) & (data['st1'] == s_m)])\n",
    "    P_ss = np.array([[[((N_ss[a][s][s_m] + alpha) / (sum(N_ss[a][s]) + (alpha * S))) for s_m in range(S)] for s in range(S)] for a in range(A)])\n",
    "\n",
    "    r_s = np.ones((A, S))\n",
    "    for a in range(A):\n",
    "        for s in range(S):\n",
    "            r_s[a][s] = (sum(data[(data['st'] == s) & (data['at'] == a)]['rt']) + alpha) / (sum(N_ss[a][s]) + alpha)\n",
    "\n",
    "    Q_t = np.ones((A, S))\n",
    "    for a in range(A):\n",
    "        Q_t[a] = np.linalg.inv(np.identity(S) - gamma * P_ss[a]) @ np.array(r_s[a])\n",
    "\n",
    "    return Q_t\n",
    "\n",
    "def QL(data, alpha0):\n",
    "    gamma = 0.95\n",
    "    S = 4\n",
    "    A = 2\n",
    "    Q_t_arr = np.zeros((A, S))\n",
    "    Q_t = np.zeros((A, S))\n",
    "    for t in range(len(data)):\n",
    "        s = data['st'][t]\n",
    "        if alpha0 == \"alpha_a\":\n",
    "            alpha = 10 / ((t+1)**(2/3) + 1)\n",
    "        if alpha0 == \"alpha_b\":\n",
    "            N_t = sum((data[:t+1]['st'] == s) & (data[:t+1]['at'] == data['at'][t]))\n",
    "            alpha = 10 / (N_t**(2/3) + 1)\n",
    "            \n",
    "        #get V_{t+1}\n",
    "        a = data['at'][t]\n",
    "        Q_t[a][s] += alpha * (data['rt'][t] + (gamma * (Q_t[a][data['st1'][t]])) - Q_t[a][s])\n",
    "        Q_t_arr = np.vstack([Q_t_arr, Q_t])\n",
    "\n",
    "    return Q_t\n",
    "\n",
    "def make_data(P, r, n = 10**6):\n",
    "    S = len(r[0])\n",
    "\n",
    "    s = 0\n",
    "    a = random.randint(0, 1)\n",
    "    r1 = r[a][s]\n",
    "    s1 = random.choices([0, 1, 2, 3], P[a][s])[0]\n",
    "\n",
    "    dataset = {'st': [s],\n",
    "               'at': [a],\n",
    "               'rt': [r1],\n",
    "               'st1': [s1]}\n",
    "    \n",
    "    for t in range(n):\n",
    "        s = s1\n",
    "        a = random.randint(0, 1)\n",
    "        r1 = r[a][s]\n",
    "        s1 = random.choices([0, 1, 2, 3], P[a][s])[0]\n",
    "        row = [s, a, r1, s1]\n",
    "        for key in dataset:\n",
    "            dataset[key].append(row[list(dataset.keys()).index(key)])\n",
    "        \n",
    "    return dataset"
   ]
  },
  {
   "cell_type": "code",
   "execution_count": 141,
   "metadata": {},
   "outputs": [],
   "source": [
    "#P_ss[a][s][s']\n",
    "P_ss = np.array([[[0.95, 0.05, 0, 0], \n",
    "                  [0.95, 0, 0.05, 0], \n",
    "                  [0, 0.95, 0, 0.05], \n",
    "                  [0, 0, 0.95, 0.05]],\n",
    "                 [[0.6, 0.4, 0, 0],\n",
    "                  [0.05, 0.55, 0.4, 0],\n",
    "                  [0, 0.05, 0.55, 0.4],\n",
    "                  [0, 0, 0.4, 0.6]]])\n",
    "\n",
    "#r_ss[a][s]\n",
    "r_s = np.array([[0.05, 0, 0, 0], \n",
    "               [0, 0, 0, 1]])"
   ]
  },
  {
   "cell_type": "code",
   "execution_count": 165,
   "metadata": {},
   "outputs": [],
   "source": [
    "gen_df = pd.DataFrame(make_data(P_ss, r_s, n = 10000))"
   ]
  },
  {
   "cell_type": "code",
   "execution_count": 167,
   "metadata": {},
   "outputs": [
    {
     "name": "stdout",
     "output_type": "stream",
     "text": [
      "[[0.95234404 0.90053188 0.85076373 0.80641667]\n",
      " [5.93850907 6.70624979 7.71070039 8.94261201]]\n",
      "[[0.94841069 0.90057814 0.85283629 0.80983783]\n",
      " [2.86948416 3.35752028 3.97067896 4.88458194]]\n",
      "[[0.94146501 0.89312245 0.84385125 0.8002222 ]\n",
      " [5.66973447 6.58400408 7.7379773  8.93823399]]\n"
     ]
    }
   ],
   "source": [
    "data = gen_df\n",
    "print(modelbased(data))\n",
    "print(QL(data, alpha0 = \"alpha_a\"))\n",
    "print(QL(data, alpha0 = \"alpha_b\"))"
   ]
  },
  {
   "cell_type": "code",
   "execution_count": 137,
   "metadata": {},
   "outputs": [
    {
     "data": {
      "text/plain": [
       "1"
      ]
     },
     "execution_count": 137,
     "metadata": {},
     "output_type": "execute_result"
    }
   ],
   "source": [
    "model_df_dist = [np.linalg.norm(V_star1 - modelbased(df1, T = t), ord=np.inf) for t in range(25000)]\n",
    "TD_df1_alphaa_dist = [np.linalg.norm(V_star1 - V_pi, ord=np.inf) for V_pi in TD_df1_alphaa_arr]\n",
    "TD_df1_alphab_dist = [np.linalg.norm(V_star1 - V_pi, ord=np.inf) for V_pi in TD_df1_alphab_arr]\n",
    "\n",
    "model_df2_dist = [np.linalg.norm(V_star2 - modelbased(df2, T = t), ord=np.inf) for t in range(25000)]\n",
    "TD_df2_alphaa_dist = [np.linalg.norm(V_star2 - V_pi, ord=np.inf) for V_pi in TD_df2_alphaa_arr]\n",
    "TD_df2_alphab_dist = [np.linalg.norm(V_star2 - V_pi, ord=np.inf) for V_pi in TD_df2_alphab_arr]"
   ]
  },
  {
   "cell_type": "code",
   "execution_count": 154,
   "metadata": {},
   "outputs": [
    {
     "data": {
      "text/plain": [
       "0.05"
      ]
     },
     "execution_count": 154,
     "metadata": {},
     "output_type": "execute_result"
    }
   ],
   "source": [
    "r_s[0][0]"
   ]
  },
  {
   "cell_type": "code",
   "execution_count": 168,
   "metadata": {},
   "outputs": [
    {
     "data": {
      "text/plain": [
       "1000000"
      ]
     },
     "execution_count": 168,
     "metadata": {},
     "output_type": "execute_result"
    }
   ],
   "source": [
    "10**6"
   ]
  },
  {
   "cell_type": "code",
   "execution_count": null,
   "metadata": {},
   "outputs": [],
   "source": []
  },
  {
   "cell_type": "code",
   "execution_count": null,
   "metadata": {},
   "outputs": [],
   "source": []
  },
  {
   "cell_type": "code",
   "execution_count": null,
   "metadata": {},
   "outputs": [],
   "source": []
  },
  {
   "cell_type": "code",
   "execution_count": null,
   "metadata": {},
   "outputs": [],
   "source": []
  },
  {
   "cell_type": "code",
   "execution_count": null,
   "metadata": {},
   "outputs": [],
   "source": []
  },
  {
   "cell_type": "code",
   "execution_count": null,
   "metadata": {},
   "outputs": [],
   "source": []
  }
 ],
 "metadata": {
  "kernelspec": {
   "display_name": "Python 3",
   "language": "python",
   "name": "python3"
  },
  "language_info": {
   "codemirror_mode": {
    "name": "ipython",
    "version": 3
   },
   "file_extension": ".py",
   "mimetype": "text/x-python",
   "name": "python",
   "nbconvert_exporter": "python",
   "pygments_lexer": "ipython3",
   "version": "3.10.2"
  },
  "orig_nbformat": 4
 },
 "nbformat": 4,
 "nbformat_minor": 2
}
